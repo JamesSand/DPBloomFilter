{
 "cells": [
  {
   "cell_type": "code",
   "execution_count": 1,
   "metadata": {},
   "outputs": [
    {
     "name": "stdout",
     "output_type": "stream",
     "text": [
      "eps_figs\\eps_eps_diff_k_Random.pdf\n",
      "eps_figs\\eps_eps_diff_k_False_Negative.pdf\n",
      "eps_figs\\eps_eps_diff_k_False_Positive.pdf\n"
     ]
    },
    {
     "data": {
      "text/plain": [
       "<Figure size 640x480 with 0 Axes>"
      ]
     },
     "metadata": {},
     "output_type": "display_data"
    },
    {
     "data": {
      "text/plain": [
       "<Figure size 640x480 with 0 Axes>"
      ]
     },
     "metadata": {},
     "output_type": "display_data"
    },
    {
     "data": {
      "text/plain": [
       "<Figure size 640x480 with 0 Axes>"
      ]
     },
     "metadata": {},
     "output_type": "display_data"
    }
   ],
   "source": [
    "import matplotlib.pyplot as plt\n",
    "import os\n",
    "import json\n",
    "import matplotlib.pyplot as plt\n",
    "from matplotlib.ticker import MaxNLocator\n",
    "from matplotlib import ticker\n",
    "\n",
    "\n",
    "log_data_base_dir= os.path.join(\"..\", \"log_data\")\n",
    "\n",
    "target_key_mapping = {\n",
    "    \"random\" : \"Random\",\n",
    "    \"inside\" : \"False_Negative\",\n",
    "    \"outside\" : \"False_Positive\"\n",
    "}\n",
    "\n",
    "title_mapping = {\n",
    "    \"random\" : \"Total Error\",\n",
    "    \"inside\" : \"False Negative Error\",\n",
    "    \"outside\" : \"False Positive Error\"\n",
    "}\n",
    "\n",
    "# # if you draw figures for different m, uncomment the following code\n",
    "# log2m_values = [18, 19, 20, 21, 22]\n",
    "# name=\"eps_diff_m\"\n",
    "# lengend_name = \"logm\"\n",
    "# key_list = log2m_values\n",
    "\n",
    "# # if you draw figures for different na, uncomment the following code\n",
    "# na_values = [\"1e1\", \"1e2\", \"1e3\", \"1e4\", \"1e5\"]\n",
    "# name=\"eps_diff_na\"\n",
    "# lengend_name=\"|A|\"\n",
    "# key_list = na_values\n",
    "\n",
    "# By default, we draw figures for different k\n",
    "k_values = [1, 2, 3, 4, 5]\n",
    "name=\"eps_diff_k\"\n",
    "lengend_name=\"k\"\n",
    "key_list = k_values\n",
    "\n",
    "eps_values = [int(i * 3) for i in range(11)]\n",
    "\n",
    "font_size = 20\n",
    "line_width=3.0\n",
    "color_list = [\"#ffc470\", \"#f6a865\", \"#ee8d5b\", \"#e57250\", \"#dd5746\"]\n",
    "marker_list = [\"o\", \"D\", \"^\", \"p\", \"X\"]\n",
    "line_style_dict = {\n",
    "    \"solid\" : \"solid\",\n",
    "    \"dotted\" : \"dotted\",\n",
    "    \"dashed\" : \"dashed\",\n",
    "    \"dashdot\" : \"dashdot\",\n",
    "    'long dash with offset': (5, (10, 3)), \n",
    "    'dashdotted' : (0, (3, 5, 1, 5)),\n",
    "}\n",
    "line_style_list = [\"solid\", \"dotted\", \"dashed\", 'dashdotted', 'long dash with offset']\n",
    "\n",
    "\n",
    "def gen_single_pdf(target_key):\n",
    "    log2m=19\n",
    "    na=\"1e5\"\n",
    "    k=3\n",
    "\n",
    "    save_file_name=f\"eps_{name}_{target_key_mapping[target_key]}.pdf\"\n",
    "    title_name = f\"{title_mapping[target_key]} with {name.replace('_', ' ').replace('na', '|A|').replace('eps', '')}\"\n",
    "\n",
    "    log_data_dir=os.path.join(log_data_base_dir, name)\n",
    "\n",
    "    diff_value2list_dict = {}\n",
    "\n",
    "    for dict_key in key_list:\n",
    "        if name == \"eps_diff_k\":\n",
    "            k = dict_key\n",
    "        elif name == \"eps_diff_m\":\n",
    "            log2m = dict_key\n",
    "        elif name == \"eps_diff_na\":\n",
    "            na = dict_key\n",
    "        else:\n",
    "            raise f\"unknow name {name}\"\n",
    "        value_list = []\n",
    "\n",
    "        for eps in eps_values:\n",
    "            file_name = f\"log2m_{log2m}_na_{na}_k_{k}_eps_{eps}.json\"\n",
    "            file_path = os.path.join(log_data_dir, file_name)\n",
    "            with open(file_path, 'r') as fr:\n",
    "                data = json.load(fr)\n",
    "                value_list.append(data[target_key])\n",
    "        # post process value list\n",
    "        value_list = [value / 100 for value in value_list]\n",
    "        diff_value2list_dict[dict_key] = value_list\n",
    "\n",
    "    # create a new figure\n",
    "    plt.figure()\n",
    "    # get current axis\n",
    "    ax = plt.gca()\n",
    "    # turn background into lightgrey\n",
    "    ax.set_facecolor('#f0f0f0')\n",
    "    ax.xaxis.set_major_locator(MaxNLocator(integer=True))\n",
    "    ax.yaxis.set_major_formatter(ticker.PercentFormatter(xmax=1, decimals=1))\n",
    "\n",
    "    x_data = eps_values\n",
    "    for i, key in enumerate(key_list):\n",
    "        y_data = diff_value2list_dict[key]\n",
    "        plt.plot(x_data, y_data, label=f\"{lengend_name}={key}\", marker=marker_list[i], color=color_list[i], linewidth=line_width, markersize=9, markerfacecolor=\"None\",\n",
    "            markeredgecolor=color_list[i], markeredgewidth=2, linestyle=line_style_dict[line_style_list[i]])\n",
    "\n",
    "    plt.grid(True)  # show grid\n",
    "    # add legend\n",
    "    plt.legend(fontsize=font_size)\n",
    "\n",
    "    # add title and labels for x and y\n",
    "    plt.title(title_name, fontsize=font_size, fontweight='bold')\n",
    "    plt.xlabel(r'$\\epsilon_{\\mathrm{dp}}$', fontsize=font_size, fontweight='bold')\n",
    "    plt.ylabel('Error Rate', fontsize=font_size, fontweight='bold')\n",
    "\n",
    "    plt.minorticks_on()\n",
    "\n",
    "    # set stick font size\n",
    "    plt.xticks(fontsize=20)\n",
    "    plt.yticks(fontsize=20)\n",
    "\n",
    "    # # if you want to dispaly the figure, uncomment the following code\n",
    "    # plt.show()\n",
    "\n",
    "    # By default, we save the figure as PDFs\n",
    "    save_fig_path = os.path.join(\"eps_figs\", save_file_name)\n",
    "    print(save_fig_path)\n",
    "    plt.savefig(save_fig_path, format='pdf', bbox_inches='tight', pad_inches=0.05)\n",
    "\n",
    "    # clean up plt\n",
    "    plt.clf()\n",
    "\n",
    "\n",
    "target_key_values = [\"random\", \"inside\", \"outside\"]\n",
    "for target_key in target_key_values:\n",
    "    gen_single_pdf(target_key)\n"
   ]
  }
 ],
 "metadata": {
  "kernelspec": {
   "display_name": "galore",
   "language": "python",
   "name": "python3"
  },
  "language_info": {
   "codemirror_mode": {
    "name": "ipython",
    "version": 3
   },
   "file_extension": ".py",
   "mimetype": "text/x-python",
   "name": "python",
   "nbconvert_exporter": "python",
   "pygments_lexer": "ipython3",
   "version": "3.9.15"
  }
 },
 "nbformat": 4,
 "nbformat_minor": 2
}
