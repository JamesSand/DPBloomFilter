{
 "cells": [
  {
   "cell_type": "code",
   "execution_count": 38,
   "metadata": {},
   "outputs": [
    {
     "name": "stdout",
     "output_type": "stream",
     "text": [
      "diff_k True Negative Error\n"
     ]
    }
   ],
   "source": [
    "import matplotlib.pyplot as plt\n",
    "import os\n",
    "import json\n",
    "\n",
    "log_data_base_dir=\"/mnt/nvme2/xuhaiyang/szz/DPBloom_filter/log_data\"\n",
    "# name=\"diff_m\"\n",
    "# lengend_name = \"log2m\"\n",
    "\n",
    "name=\"diff_k\"\n",
    "lengend_name=\"k\"\n",
    "\n",
    "# name=\"diff_n\"\n",
    "# lengend_name=\"n\"\n",
    "\n",
    "target_key = \"random\"\n",
    "target_key = \"inside\"\n",
    "# target_key = \"outside\"\n",
    "\n",
    "target_key_mapping = {\n",
    "    \"random\" : \"Random\",\n",
    "    \"inside\" : \"True_Negative\",\n",
    "    \"outside\" : \"False_Positive\"\n",
    "}\n",
    "\n",
    "title_mapping = {\n",
    "    \"random\" : \"Total Error\",\n",
    "    \"inside\" : \"True Negative Error\",\n",
    "    \"outside\" : \"False Positive Error\"\n",
    "}\n",
    "\n",
    "save_file_name=f\"{name}_{target_key_mapping[target_key]}\"\n",
    "title_name = f\"{name} {title_mapping[target_key]}\"\n",
    "\n",
    "print(title_name)\n",
    "\n",
    "log2m=20\n",
    "n=\"1e5\"\n",
    "k=8\n",
    "\n",
    "log_data_dir=os.path.join(log_data_base_dir, name)\n",
    "# log2m_values = [12, 16, 20, 24, 28]\n",
    "# log2m_values = [20, 24, 28]\n",
    "# log2m_values = [18, 19, 20, 21, 22]\n",
    "log2m_values = [20, 21, 22, 23, 24]\n",
    "# n_values = [\"1e3\", \"1e4\", \"1e5\", \"1e6\", \"1e7\"]\n",
    "n_values = [\"1e1\", \"1e2\", \"1e3\", \"1e4\", \"1e5\"]\n",
    "# k_values = [2, 4, 8, 16, 32]\n",
    "k_values = [1, 2, 4, 8, 16]\n",
    "\n",
    "diff_value2list_dict = {}\n",
    "\n",
    "# key_list = n_values\n",
    "# for n in n_values:\n",
    "#     dict_key = n\n",
    "\n",
    "key_list = k_values\n",
    "for k in k_values:\n",
    "    dict_key = k\n",
    "\n",
    "# key_list = log2m_values\n",
    "# for log2m in log2m_values:\n",
    "#     dict_key = log2m\n",
    "\n",
    "    value_list = []\n",
    "    for eps_0 in range(21):\n",
    "        file_name = f\"log2m_{log2m}_n_{n}_k_{k}_eps0_{eps_0}.json\"\n",
    "        file_path = os.path.join(log_data_dir, file_name)\n",
    "        with open(file_path, 'r') as fr:\n",
    "            data = json.load(fr)\n",
    "            value_list.append(data[target_key])\n",
    "    # post process value list\n",
    "    # value_list = [value / 100 for value in value_list]\n",
    "    diff_value2list_dict[dict_key] = value_list\n",
    "\n"
   ]
  },
  {
   "cell_type": "code",
   "execution_count": 39,
   "metadata": {},
   "outputs": [
    {
     "name": "stdout",
     "output_type": "stream",
     "text": [
      "50.10700%\t75.16600%\t93.97600%\t99.64700%\t99.99800%\t\n",
      "26.93700%\t46.50100%\t71.65600%\t91.76300%\t99.32900%\t\n",
      "11.85500%\t22.49600%\t39.90000%\t63.70400%\t86.85900%\t\n",
      "4.86100%\t9.31700%\t17.71000%\t32.13600%\t54.18500%\t\n",
      "1.86100%\t3.58100%\t6.98400%\t13.45500%\t25.26600%\t\n",
      "0.67800%\t1.35000%\t2.65900%\t5.22400%\t10.26100%\t\n",
      "0.23900%\t0.48400%\t0.95200%\t1.90800%\t3.84300%\t\n",
      "0.08200%\t0.17800%\t0.34800%\t0.72300%\t1.43600%\t\n",
      "0.03600%\t0.07800%\t0.15300%\t0.29200%\t0.55100%\t\n",
      "0.01600%\t0.03000%\t0.04400%\t0.09800%\t0.17900%\t\n",
      "0.00400%\t0.00900%\t0.01000%\t0.02400%\t0.04700%\t\n",
      "0.00000%\t0.00300%\t0.00400%\t0.00900%\t0.01400%\t\n",
      "0.00000%\t0.00000%\t0.00000%\t0.00300%\t0.00500%\t\n",
      "0.00000%\t0.00000%\t0.00000%\t0.00200%\t0.00300%\t\n",
      "0.00000%\t0.00000%\t0.00000%\t0.00000%\t0.00000%\t\n",
      "0.00000%\t0.00000%\t0.00000%\t0.00000%\t0.00000%\t\n",
      "0.00000%\t0.00000%\t0.00000%\t0.00000%\t0.00000%\t\n",
      "0.00000%\t0.00000%\t0.00000%\t0.00000%\t0.00000%\t\n",
      "0.00000%\t0.00000%\t0.00000%\t0.00000%\t0.00000%\t\n",
      "0.00000%\t0.00000%\t0.00000%\t0.00000%\t0.00000%\t\n",
      "0.00000%\t0.00000%\t0.00000%\t0.00000%\t0.00000%\t\n"
     ]
    }
   ],
   "source": [
    "for i in range(21):\n",
    "    for key in key_list:\n",
    "        print(f\"{diff_value2list_dict[key][i]:.5f}%\", end=\"\\t\")\n",
    "        # print(\"%.3f%\" % (diff_value2list_dict[key][i]), end=\" \")\n",
    "    print()"
   ]
  }
 ],
 "metadata": {
  "kernelspec": {
   "display_name": "galore",
   "language": "python",
   "name": "python3"
  },
  "language_info": {
   "codemirror_mode": {
    "name": "ipython",
    "version": 3
   },
   "file_extension": ".py",
   "mimetype": "text/x-python",
   "name": "python",
   "nbconvert_exporter": "python",
   "pygments_lexer": "ipython3",
   "version": "3.10.14"
  }
 },
 "nbformat": 4,
 "nbformat_minor": 2
}
